{
 "cells": [
  {
   "cell_type": "markdown",
   "metadata": {},
   "source": [
    "## No 1\n",
    "##### Lakukan Single Perceptron untuk data AND, OR, XOR, digit, iris, dan ruspini"
   ]
  },
  {
   "cell_type": "code",
   "execution_count": 1,
   "metadata": {},
   "outputs": [],
   "source": [
    "# library\n",
    "import pandas as pd\n",
    "from sklearn.linear_model import Perceptron\n",
    "from sklearn.model_selection import GridSearchCV, StratifiedKFold\n",
    "from sklearn.preprocessing import StandardScaler\n",
    "from sklearn.model_selection import train_test_split\n",
    "from sklearn.metrics import accuracy_score"
   ]
  },
  {
   "cell_type": "markdown",
   "metadata": {},
   "source": [
    "### AND"
   ]
  },
  {
   "cell_type": "code",
   "execution_count": 2,
   "metadata": {},
   "outputs": [
    {
     "name": "stdout",
     "output_type": "stream",
     "text": [
      "accuracy score: 1.0\n",
      "prediction results and: [0 0 0 1]\n"
     ]
    }
   ],
   "source": [
    "data_and = pd.read_csv('../Data/Data/AND.csv')\n",
    "data = data_and.iloc[:, 0:-1]\n",
    "label = data_and.iloc[:, -1]\n",
    "clf = Perceptron(tol=1e-3, random_state=0)\n",
    "clf.fit(data, label)\n",
    "\n",
    "print(f'accuracy score: {clf.score(data, label)}')\n",
    "print(f'prediction results and: {clf.predict(data)}')"
   ]
  },
  {
   "cell_type": "markdown",
   "metadata": {},
   "source": [
    "### OR"
   ]
  },
  {
   "cell_type": "code",
   "execution_count": 3,
   "metadata": {},
   "outputs": [
    {
     "name": "stdout",
     "output_type": "stream",
     "text": [
      "accuracy score: 1.0\n",
      "prediction results or: [0 1 1 1]\n"
     ]
    }
   ],
   "source": [
    "data_or = pd.read_csv('../Data/Data/OR.csv')\n",
    "data = data_or.iloc[:, 0:-1]\n",
    "label = data_or.iloc[:, -1]\n",
    "clf = Perceptron(tol=1e-3, random_state=0)\n",
    "clf.fit(data, label)\n",
    "\n",
    "print(f'accuracy score: {clf.score(data, label)}')\n",
    "print(f'prediction results or: {clf.predict(data)}')"
   ]
  },
  {
   "cell_type": "markdown",
   "metadata": {},
   "source": [
    "### XOR"
   ]
  },
  {
   "cell_type": "code",
   "execution_count": 4,
   "metadata": {},
   "outputs": [
    {
     "name": "stdout",
     "output_type": "stream",
     "text": [
      "accuracy score: 0.5\n",
      "prediction results xor: [0 0 0 0]\n"
     ]
    }
   ],
   "source": [
    "data_xor = pd.read_csv('../Data/Data/XOR.csv')\n",
    "data = data_xor.iloc[:, 0:-1]\n",
    "label = data_xor.iloc[:, -1]\n",
    "clf = Perceptron(tol=1e-3, random_state=0)\n",
    "clf.fit(data, label)\n",
    "\n",
    "print(f'accuracy score: {clf.score(data, label)}')\n",
    "print(f'prediction results xor: {clf.predict(data)}')"
   ]
  },
  {
   "cell_type": "markdown",
   "metadata": {},
   "source": [
    "### Digit"
   ]
  },
  {
   "cell_type": "code",
   "execution_count": 5,
   "metadata": {},
   "outputs": [
    {
     "name": "stdout",
     "output_type": "stream",
     "text": [
      "accuracy score: 1.0\n",
      "prediction results digit: [0 0 0 0 0 0 0 0 1 1 1 1 1 1 1 1 2 2 2 2 2 2 2 2 3 3 3 3 3 3 3 3 4 4 4 4 4\n",
      " 4 4 4 5 5 5 5 5 5 5 5 6 6 6 6 6 6 6 6 7 7 7 7 7 7 7 7 8 8 8 8 8 8 8 8 9 9\n",
      " 9 9 9 9 9 9]\n"
     ]
    }
   ],
   "source": [
    "data_digit = pd.read_csv('../Data/Data/digit.csv')\n",
    "data = data_digit.iloc[:, 0:-1]\n",
    "label = data_digit.iloc[:, -1]\n",
    "clf = Perceptron(tol=1e-3, random_state=0)\n",
    "clf.fit(data, label)\n",
    "\n",
    "print(f'accuracy score: {clf.score(data, label)}')\n",
    "print(f'prediction results digit: {clf.predict(data)}')"
   ]
  },
  {
   "cell_type": "markdown",
   "metadata": {},
   "source": [
    "### Iris"
   ]
  },
  {
   "cell_type": "code",
   "execution_count": 6,
   "metadata": {},
   "outputs": [
    {
     "name": "stdout",
     "output_type": "stream",
     "text": [
      "accuracy score: 0.8187919463087249\n",
      "prediction results iris: [ 0  0  0  0  0  0  0  0  0  0  0  0  0  0  0  0  0  0  0  0  0  0  0  0\n",
      " -1  0  0  0  0  0  0  0  0  0  0  0  0  0  0  0 -1  0  0  0  0  0  0  0\n",
      "  0 -1 -1 -1 -1 -1 -1 -1 -1 -1 -1 -1 -1 -1 -1 -1 -1 -1 -1 -1 -1 -1 -1 -1\n",
      " -1 -1 -1 -1 -1 -1 -1 -1 -1 -1 -1 -1 -1 -1 -1 -1 -1 -1 -1 -1 -1 -1 -1 -1\n",
      " -1 -1 -1  1  1 -1  1  1  1  1 -1 -1  1 -1 -1 -1  1  1  1 -1  1  1 -1  1\n",
      "  1 -1 -1  1 -1 -1 -1  1 -1 -1 -1  1 -1 -1 -1  1 -1 -1 -1  1 -1  1  1  1\n",
      "  1 -1 -1  1  1]\n"
     ]
    }
   ],
   "source": [
    "data_iris = pd.read_csv('../Data/Data/iris.csv')\n",
    "data = data_iris.iloc[:, 0:-1]\n",
    "label = data_iris.iloc[:, -1]\n",
    "clf = Perceptron(tol=1e-3, random_state=0)\n",
    "clf.fit(data, label)\n",
    "\n",
    "print(f'accuracy score: {clf.score(data, label)}')\n",
    "print(f'prediction results iris: {clf.predict(data)}')"
   ]
  },
  {
   "cell_type": "markdown",
   "metadata": {},
   "source": [
    "### Ruspini"
   ]
  },
  {
   "cell_type": "code",
   "execution_count": 7,
   "metadata": {},
   "outputs": [
    {
     "name": "stdout",
     "output_type": "stream",
     "text": [
      "accuracy score: 0.5066666666666667\n",
      "prediction results ruspini: [3 3 3 3 3 3 3 3 3 3 3 3 3 3 3 3 3 3 3 3 3 4 4 4 4 4 4 4 4 4 4 4 4 4 4 4 4\n",
      " 3 3 3 3 3 3 3 3 3 3 3 3 3 3 3 3 3 3 3 3 3 3 3 4 4 4 4 4 4 4 4 4 4 4 4 4 4\n",
      " 4]\n"
     ]
    }
   ],
   "source": [
    "data_ruspini = pd.read_csv('../Data/Data/ruspini.csv')\n",
    "data = data_ruspini.iloc[:, 0:-1]\n",
    "label = data_ruspini.iloc[:, -1]\n",
    "data = data.drop(columns=\"#\")\n",
    "clf = Perceptron(tol=1e-3, random_state=0)\n",
    "clf.fit(data, label)\n",
    "print(f'accuracy score: {clf.score(data, label)}')\n",
    "print(f'prediction results ruspini: {clf.predict(data)}')"
   ]
  },
  {
   "cell_type": "markdown",
   "metadata": {},
   "source": [
    "## No 2\n",
    "##### Lakukan analisa mengapa pada XOR tidak bisa memperoleh score 1.0 (akurasi 100%)"
   ]
  },
  {
   "cell_type": "code",
   "execution_count": 8,
   "metadata": {},
   "outputs": [
    {
     "name": "stdout",
     "output_type": "stream",
     "text": [
      "accuracy score: 1.00\n",
      "prediction results xor: [0 1 1 0]\n"
     ]
    }
   ],
   "source": [
    "# menggunakan transformasi fitur baru yakni X3\n",
    "data_xor = pd.read_csv('../Data/Data/XOR.csv')\n",
    "\n",
    "# transformasi fitur\n",
    "data_xor['X3'] = data_xor['X1'] * data_xor['X2']\n",
    "\n",
    "# pisahkan data dan label\n",
    "data_transformed = data_xor[['X1', 'X2', 'X3']]\n",
    "label = data_xor['Y']\n",
    "\n",
    "# inisialisasi dan training perceptron\n",
    "clf = Perceptron(tol=1e-3, random_state=0)\n",
    "clf.fit(data_transformed, label)\n",
    "\n",
    "# evaluasi model\n",
    "predictions = clf.predict(data_transformed)\n",
    "accuracy = accuracy_score(label, predictions)\n",
    "\n",
    "print(f'accuracy score: {accuracy:.2f}')\n",
    "print(f'prediction results xor: {predictions}')\n"
   ]
  },
  {
   "cell_type": "markdown",
   "metadata": {},
   "source": [
    "## No 3\n",
    "##### Carilah parameter yang tepat hingga error paling minimal"
   ]
  },
  {
   "cell_type": "markdown",
   "metadata": {},
   "source": [
    "## Iris"
   ]
  },
  {
   "cell_type": "code",
   "execution_count": 9,
   "metadata": {},
   "outputs": [
    {
     "name": "stdout",
     "output_type": "stream",
     "text": [
      "best parameters found: {'alpha': 0.0001, 'eta0': 1.0, 'max_iter': 1000, 'penalty': 'l1'}\n",
      "best cross-validation accuracy: 0.93\n",
      "training accuracy with best parameters: 0.97\n"
     ]
    }
   ],
   "source": [
    "# load dataset iris\n",
    "data_iris = pd.read_csv('../Data/Data/iris.csv')\n",
    "data = data_iris.iloc[:, 0:-1]\n",
    "label = data_iris.iloc[:, -1]\n",
    "\n",
    "# standardisasi fitur\n",
    "scaler = StandardScaler()\n",
    "data_scaled = scaler.fit_transform(data)\n",
    "\n",
    "# mendefinisikan parameter grid\n",
    "param_grid = {\n",
    "    'penalty': [None, 'l2', 'l1', 'elasticnet'],\n",
    "    'max_iter': [1000, 2000, 5000],\n",
    "    'eta0': [0.01, 0.1, 1.0],\n",
    "    'alpha': [0.0001, 0.001, 0.01]\n",
    "}\n",
    "\n",
    "# inisialisasi model Perceptron\n",
    "clf = Perceptron(tol=1e-3, random_state=0)\n",
    "# setup StratifiedKFold\n",
    "skf = StratifiedKFold(n_splits=5)\n",
    "\n",
    "# setup GridSearchCV dengan cross-validation\n",
    "grid_search = GridSearchCV(clf, param_grid, cv=skf, scoring='accuracy')\n",
    "\n",
    "# training model dengan data yang sudah dinormalisasi\n",
    "grid_search.fit(data_scaled, label)\n",
    "\n",
    "# hasil terbaik\n",
    "best_params = grid_search.best_params_\n",
    "best_score = grid_search.best_score_\n",
    "\n",
    "# evaluasi dengan parameter terbaik pada data training\n",
    "best_model = grid_search.best_estimator_\n",
    "train_accuracy = accuracy_score(label, best_model.predict(data_scaled))\n",
    "\n",
    "print(f'best parameters found: {best_params}')\n",
    "print(f'best cross-validation accuracy: {best_score:.2f}')\n",
    "print(f'training accuracy with best parameters: {train_accuracy:.2f}')"
   ]
  },
  {
   "cell_type": "markdown",
   "metadata": {},
   "source": [
    "## Ruspini"
   ]
  },
  {
   "cell_type": "code",
   "execution_count": 10,
   "metadata": {},
   "outputs": [
    {
     "name": "stdout",
     "output_type": "stream",
     "text": [
      "best parameters found: {'alpha': 0.0001, 'eta0': 0.01, 'max_iter': 1000, 'penalty': None}\n",
      "best cross-validation accuracy: 1.00\n",
      "training accuracy with best parameters: 1.00\n"
     ]
    }
   ],
   "source": [
    "# load dataset ruspini\n",
    "data_iris = pd.read_csv('../Data/Data/ruspini.csv')\n",
    "data = data_iris.iloc[:, 0:-1]\n",
    "data = data.drop(columns=\"#\")\n",
    "label = data_iris.iloc[:, -1]\n",
    "\n",
    "# standardisasi fitur\n",
    "scaler = StandardScaler()\n",
    "data_scaled = scaler.fit_transform(data)\n",
    "# mendefinisikan parameter grid\n",
    "param_grid = {\n",
    "    'penalty': [None, 'l2', 'l1', 'elasticnet'],\n",
    "    'max_iter': [1000, 2000, 5000],\n",
    "    'eta0': [0.01, 0.1, 1.0],\n",
    "    'alpha': [0.0001, 0.001, 0.01]\n",
    "}\n",
    "\n",
    "# inisialisasi model Perceptron\n",
    "clf = Perceptron(tol=1e-3, random_state=0)\n",
    "# setup StratifiedKFold\n",
    "skf = StratifiedKFold(n_splits=5)\n",
    "\n",
    "# setup GridSearchCV dengan cross-validation\n",
    "grid_search = GridSearchCV(clf, param_grid, cv=skf, scoring='accuracy')\n",
    "\n",
    "# training model dengan data yang sudah dinormalisasi\n",
    "grid_search.fit(data_scaled, label)\n",
    "\n",
    "# hasil terbaik\n",
    "best_params = grid_search.best_params_\n",
    "best_score = grid_search.best_score_\n",
    "\n",
    "# evaluasi dengan parameter terbaik pada data training\n",
    "best_model = grid_search.best_estimator_\n",
    "train_accuracy = accuracy_score(label, best_model.predict(data_scaled))\n",
    "\n",
    "print(f'best parameters found: {best_params}')\n",
    "print(f'best cross-validation accuracy: {best_score:.2f}')\n",
    "print(f'training accuracy with best parameters: {train_accuracy:.2f}')"
   ]
  },
  {
   "cell_type": "markdown",
   "metadata": {},
   "source": [
    "# No 4\n",
    "#### Lakukan testing untuk data testing dan tampilkan akurasinya\n",
    "### Digit"
   ]
  },
  {
   "cell_type": "code",
   "execution_count": 11,
   "metadata": {},
   "outputs": [
    {
     "name": "stdout",
     "output_type": "stream",
     "text": [
      "training accuracy: 1.0\n",
      "test accuracy: 0.1875\n",
      "prediction results on test set: [6 2 9 5 5 6 9 3 0 4 8 7 4 8 2 2]\n"
     ]
    }
   ],
   "source": [
    "# load dataset digit\n",
    "data_digit = pd.read_csv('../Data/Data/digit.csv')\n",
    "data = data_digit.iloc[:, 0:-1]\n",
    "label = data_digit.iloc[:, -1]\n",
    "\n",
    "# split data (80:20)\n",
    "X_train, X_test, y_train, y_test = train_test_split(data, label, test_size=0.2, random_state=0)\n",
    "\n",
    "# inisialisasi perceptron\n",
    "clf = Perceptron(tol=1e-3, random_state=0)\n",
    "\n",
    "# training model\n",
    "clf.fit(X_train, y_train)\n",
    "\n",
    "# evaluasi model data training\n",
    "train_accuracy = clf.score(X_train, y_train)\n",
    "\n",
    "# evaluasi model data testing\n",
    "test_accuracy = clf.score(X_test, y_test)\n",
    "\n",
    "# prediksi\n",
    "y_test_pred = clf.predict(X_test)\n",
    "\n",
    "print(f'training accuracy: {train_accuracy}')\n",
    "print(f'test accuracy: {test_accuracy}')\n",
    "print(f'prediction results on test set: {y_test_pred}')"
   ]
  },
  {
   "cell_type": "markdown",
   "metadata": {},
   "source": [
    "## Iris"
   ]
  },
  {
   "cell_type": "code",
   "execution_count": 12,
   "metadata": {},
   "outputs": [
    {
     "name": "stdout",
     "output_type": "stream",
     "text": [
      "best parameters found: {'alpha': 0.001, 'eta0': 0.1, 'max_iter': 1000, 'penalty': 'l1'}\n",
      "best cross-validation accuracy: 0.93\n",
      "training accuracy with best parameters: 0.97\n",
      "test accuracy with best parameters: 0.80\n"
     ]
    }
   ],
   "source": [
    "# load dataset iris\n",
    "data_iris = pd.read_csv('../Data/Data/iris.csv')\n",
    "data = data_iris.iloc[:, 0:-1]\n",
    "label = data_iris.iloc[:, -1]\n",
    "\n",
    "# split data (80:20)\n",
    "X_train, X_test, y_train, y_test = train_test_split(data, label, test_size=0.2, random_state=0)\n",
    "\n",
    "# standarisasi data\n",
    "scaler = StandardScaler()\n",
    "X_train_scaled = scaler.fit_transform(X_train)\n",
    "X_test_scaled = scaler.transform(X_test)\n",
    "\n",
    "# # mendefinisikan parameter grid \n",
    "param_grid = {\n",
    "    'penalty': [None, 'l2', 'l1', 'elasticnet'],\n",
    "    'max_iter': [1000, 2000, 5000],\n",
    "    'eta0': [0.01, 0.1, 1.0],\n",
    "    'alpha': [0.0001, 0.001, 0.01]\n",
    "}\n",
    "\n",
    "# inisialisasi model Perceptron\n",
    "clf = Perceptron(tol=1e-3, random_state=0)\n",
    "\n",
    "# setup StratifiedKFold\n",
    "skf = StratifiedKFold(n_splits=5)\n",
    "\n",
    "# setup GridSearchCV dengan cross-validation\n",
    "grid_search = GridSearchCV(clf, param_grid, cv=skf, scoring='accuracy')\n",
    "\n",
    "# training model dengan data yang sudah dinormalisasi\n",
    "grid_search.fit(X_train_scaled, y_train)\n",
    "\n",
    "# hasil terbaik\n",
    "best_params = grid_search.best_params_\n",
    "best_score = grid_search.best_score_\n",
    "\n",
    "# evaluasi dengan parameter terbaik pada data training\n",
    "best_model = grid_search.best_estimator_\n",
    "train_accuracy = accuracy_score(y_train, best_model.predict(X_train_scaled))\n",
    "\n",
    "# evaluasi dengan parameter terbaik pada data testing\n",
    "test_accuracy = accuracy_score(y_test, best_model.predict(X_test_scaled))\n",
    "\n",
    "print(f'best parameters found: {best_params}')\n",
    "print(f'best cross-validation accuracy: {best_score:.2f}')\n",
    "print(f'training accuracy with best parameters: {train_accuracy:.2f}')\n",
    "print(f'test accuracy with best parameters: {test_accuracy:.2f}')"
   ]
  },
  {
   "cell_type": "markdown",
   "metadata": {},
   "source": [
    "## Ruspini"
   ]
  },
  {
   "cell_type": "code",
   "execution_count": 13,
   "metadata": {},
   "outputs": [
    {
     "name": "stdout",
     "output_type": "stream",
     "text": [
      "Best parameters found: {'alpha': 0.0001, 'eta0': 0.01, 'max_iter': 1000, 'penalty': None}\n",
      "Best cross-validation accuracy: 1.00\n",
      "Training accuracy with best parameters: 1.00\n",
      "Test accuracy with best parameters: 1.00\n"
     ]
    }
   ],
   "source": [
    "# load dataset ruspini\n",
    "data_iris = pd.read_csv('../Data/Data/ruspini.csv')\n",
    "data = data_iris.iloc[:, 0:-1]\n",
    "data = data.drop(columns=\"#\")  # drop feature '#'\n",
    "label = data_iris.iloc[:, -1]\n",
    "\n",
    "# split data (80:20)\n",
    "X_train, X_test, y_train, y_test = train_test_split(data, label, test_size=0.2, random_state=0)\n",
    "\n",
    "# standarisasi data\n",
    "scaler = StandardScaler()\n",
    "X_train_scaled = scaler.fit_transform(X_train)\n",
    "X_test_scaled = scaler.transform(X_test)\n",
    "\n",
    "# mendefinisikan parameter grid\n",
    "param_grid = {\n",
    "    'penalty': [None, 'l2', 'l1', 'elasticnet'],\n",
    "    'max_iter': [1000, 2000, 5000],\n",
    "    'eta0': [0.01, 0.1, 1.0],\n",
    "    'alpha': [0.0001, 0.001, 0.01]\n",
    "}\n",
    "\n",
    "# inisialisasi model Perceptron\n",
    "clf = Perceptron(tol=1e-3, random_state=0)\n",
    "\n",
    "# setup StratifiedKFold\n",
    "skf = StratifiedKFold(n_splits=5)\n",
    "\n",
    "# setup GridSearchCV dengan cross-validation\n",
    "grid_search = GridSearchCV(clf, param_grid, cv=skf, scoring='accuracy')\n",
    "\n",
    "# training model dengan data yang sudah dinormalisasi\n",
    "grid_search.fit(X_train_scaled, y_train)\n",
    "\n",
    "# hasil terbaik\n",
    "best_params = grid_search.best_params_\n",
    "best_score = grid_search.best_score_\n",
    "\n",
    "# evaluasi dengan parameter terbaik pada data training\n",
    "best_model = grid_search.best_estimator_\n",
    "train_accuracy = accuracy_score(y_train, best_model.predict(X_train_scaled))\n",
    "\n",
    "# evaluasi dengan parameter terbaik pada data testing\n",
    "test_accuracy = accuracy_score(y_test, best_model.predict(X_test_scaled))\n",
    "\n",
    "print(f'Best parameters found: {best_params}')\n",
    "print(f'Best cross-validation accuracy: {best_score:.2f}')\n",
    "print(f'Training accuracy with best parameters: {train_accuracy:.2f}')\n",
    "print(f'Test accuracy with best parameters: {test_accuracy:.2f}')"
   ]
  }
 ],
 "metadata": {
  "kernelspec": {
   "display_name": "base",
   "language": "python",
   "name": "python3"
  },
  "language_info": {
   "codemirror_mode": {
    "name": "ipython",
    "version": 3
   },
   "file_extension": ".py",
   "mimetype": "text/x-python",
   "name": "python",
   "nbconvert_exporter": "python",
   "pygments_lexer": "ipython3",
   "version": "3.11.9"
  }
 },
 "nbformat": 4,
 "nbformat_minor": 2
}
